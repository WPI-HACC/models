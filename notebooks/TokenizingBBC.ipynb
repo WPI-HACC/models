{
 "cells": [
  {
   "cell_type": "code",
   "execution_count": 1,
   "metadata": {},
   "outputs": [],
   "source": [
    "%load_ext autoreload\n",
    "%autoreload 1\n",
    "import nltk\n",
    "import csv\n",
    "import random"
   ]
  },
  {
   "cell_type": "code",
   "execution_count": 2,
   "metadata": {
    "collapsed": true
   },
   "outputs": [],
   "source": [
    "data_path = \"data/bbc\"\n",
    "categories = [ \n",
    "    'business',\n",
    "    'entertainment',\n",
    "    'politics',\n",
    "    'sport',\n",
    "    'tech'\n",
    "]"
   ]
  },
  {
   "cell_type": "code",
   "execution_count": 7,
   "metadata": {
    "collapsed": true
   },
   "outputs": [],
   "source": [
    "import os\n",
    "def tokenize_category(category):\n",
    "    file_names = os.listdir(\"{0}/{1}/\".format(data_path, category))\n",
    "    out = []\n",
    "    for fn in file_names:\n",
    "        with open(\"{0}/{1}/{2}\".format(data_path, category, fn), 'r') as df:\n",
    "            sent = nltk.sent_tokenize(\n",
    "                unicode(df.read(), errors='ignore').replace('\\n', ' ').replace(',','^'))\n",
    "            out.extend([[s, category, fn, i ] for i,s in enumerate(sent)])\n",
    "    return out"
   ]
  },
  {
   "cell_type": "code",
   "execution_count": 8,
   "metadata": {},
   "outputs": [],
   "source": [
    "# save all sentences by category in csv\n",
    "# also save a copy in a single file with the order shuffled.\n",
    "# also save a copy with the first 15 sentences per category for tests\n",
    "all_shuffled_sentences = []\n",
    "test_sentences = []\n",
    "columns = [\n",
    "    'sentence',\n",
    "    'category',\n",
    "    'file_name',\n",
    "    'index'\n",
    "]\n",
    "for c in categories:\n",
    "    sent = tokenize_category(c)\n",
    "    all_shuffled_sentences.extend(sent)\n",
    "    \n",
    "with open('{0}/aggregated/all.csv'.format(data_path), 'w') as f:\n",
    "    writer = csv.writer(f, delimiter=',')\n",
    "    writer.writerow(columns)\n",
    "    writer.writerows(all_shuffled_sentences)"
   ]
  },
  {
   "cell_type": "code",
   "execution_count": null,
   "metadata": {
    "collapsed": true
   },
   "outputs": [],
   "source": [
    "python convert.py --input bbc\\aggregated\\bbc.test.input.txt --map rotten_imdb\\imdb.words.dictionary.txt rotten_imdb\\imdb.label.dictionary.txt --output bbc\\aggregated\\bbc.init.test.ctf --unk UNKNOWN\n",
    "python convert.py --input bbc\\aggregated\\bbc.train.input.txt --map rotten_imdb\\imdb.words.dictionary.txt rotten_imdb\\imdb.label.dictionary.txt --output bbc\\aggregated\\bbc.init.train.ctf --unk UNKNOWN\n",
    "python convert.py --input bbc\\aggregated\\bbc.val.input.txt --map rotten_imdb\\imdb.words.dictionary.txt rotten_imdb\\imdb.label.dictionary.txt --output bbc\\aggregated\\bbc.init.val.ctf --unk UNKNOWN"
   ]
  },
  {
   "cell_type": "code",
   "execution_count": null,
   "metadata": {
    "collapsed": true
   },
   "outputs": [],
   "source": []
  }
 ],
 "metadata": {
  "kernelspec": {
   "display_name": "Python 2",
   "language": "python",
   "name": "python2"
  },
  "language_info": {
   "codemirror_mode": {
    "name": "ipython",
    "version": 2
   },
   "file_extension": ".py",
   "mimetype": "text/x-python",
   "name": "python",
   "nbconvert_exporter": "python",
   "pygments_lexer": "ipython2",
   "version": "2.7.13"
  }
 },
 "nbformat": 4,
 "nbformat_minor": 2
}
