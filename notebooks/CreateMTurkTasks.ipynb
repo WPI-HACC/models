{
 "cells": [
  {
   "cell_type": "code",
   "execution_count": 1,
   "metadata": {
    "collapsed": true
   },
   "outputs": [],
   "source": [
    "import csv\n",
    "import random"
   ]
  },
  {
   "cell_type": "code",
   "execution_count": 2,
   "metadata": {
    "collapsed": true
   },
   "outputs": [],
   "source": [
    "datasets = [\n",
    "    'fake',\n",
    "    'bbc',\n",
    "    'fox',\n",
    "    'cnn'\n",
    "]"
   ]
  },
  {
   "cell_type": "code",
   "execution_count": 20,
   "metadata": {},
   "outputs": [],
   "source": [
    "task = []\n",
    "for d in datasets:\n",
    "    with open(\"data/{0}/aggregated/all.csv\".format(d), 'r') as ds:\n",
    "        data = ds.readlines()\n",
    "        header = data[0]\n",
    "        data = data[1:]\n",
    "        sample = random.sample(data, 2500)\n",
    "        task.extend(sample)\n",
    "random.shuffle(task)\n",
    "first_batch = task[:5000]\n",
    "second_batch = task[5000:]"
   ]
  },
  {
   "cell_type": "code",
   "execution_count": 22,
   "metadata": {},
   "outputs": [],
   "source": [
    "with open(\"data/task_1_5000.csv\", 'w') as f:\n",
    "    f.write(header)\n",
    "    f.write(\"\".join(first_batch))\n",
    "with open(\"data/task_2_5000.csv\", 'w') as f:\n",
    "    f.write(header)\n",
    "    f.write(\"\".join(second_batch))"
   ]
  },
  {
   "cell_type": "code",
   "execution_count": 23,
   "metadata": {},
   "outputs": [
    {
     "name": "stdout",
     "output_type": "stream",
     "text": [
      "5001\n",
      "5001\n"
     ]
    }
   ],
   "source": [
    "with open(\"data/task_1_5000.csv\", 'r') as f:\n",
    "    data = f.readlines()\n",
    "    print len(data)\n",
    "with open(\"data/task_2_5000.csv\", 'r') as f:\n",
    "    data = f.readlines()\n",
    "    print len(data)"
   ]
  }
 ],
 "metadata": {
  "kernelspec": {
   "display_name": "Python 2",
   "language": "python",
   "name": "python2"
  },
  "language_info": {
   "codemirror_mode": {
    "name": "ipython",
    "version": 2
   },
   "file_extension": ".py",
   "mimetype": "text/x-python",
   "name": "python",
   "nbconvert_exporter": "python",
   "pygments_lexer": "ipython2",
   "version": "2.7.13"
  }
 },
 "nbformat": 4,
 "nbformat_minor": 2
}
