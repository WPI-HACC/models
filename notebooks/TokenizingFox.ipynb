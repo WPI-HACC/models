{
 "cells": [
  {
   "cell_type": "code",
   "execution_count": 10,
   "metadata": {},
   "outputs": [
    {
     "name": "stdout",
     "output_type": "stream",
     "text": [
      "The autoreload extension is already loaded. To reload it, use:\n",
      "  %reload_ext autoreload\n"
     ]
    }
   ],
   "source": [
    "%load_ext autoreload\n",
    "%autoreload 1\n",
    "import nltk\n",
    "import csv"
   ]
  },
  {
   "cell_type": "code",
   "execution_count": 12,
   "metadata": {
    "collapsed": true
   },
   "outputs": [],
   "source": [
    "data_path = \"data/fox/raw\"\n",
    "categories = [ \n",
    "    'foxnews_health',\n",
    "    'foxnews_science_technology',\n",
    "    'foxnews_sports',\n",
    "    'foxnews_travel'\n",
    "]\n"
   ]
  },
  {
   "cell_type": "code",
   "execution_count": 13,
   "metadata": {
    "collapsed": true
   },
   "outputs": [],
   "source": [
    "data_path = \"data/cnn/raw\"\n",
    "categories = [ \n",
    "    'cnn_crime',\n",
    "    'cnn_entertainment',\n",
    "    'cnn_health',\n",
    "    'cnn_living',\n",
    "    'cnn_politics',\n",
    "    'cnn_technology',\n",
    "    'cnn_travel'\n",
    "]\n"
   ]
  },
  {
   "cell_type": "code",
   "execution_count": 14,
   "metadata": {
    "collapsed": true
   },
   "outputs": [],
   "source": [
    "import os\n",
    "def tokenize_category(category):\n",
    "    file_names = os.listdir(\"{0}/{1}/\".format(data_path, category))\n",
    "    out = []\n",
    "    for fn in file_names:\n",
    "        with open(\"{0}/{1}/{2}\".format(data_path, category, fn), 'r') as df:\n",
    "            text = df.read()\n",
    "            if '<TEXT>' in text:\n",
    "                text = text.split('<TEXT>')[1].split('</TEXT>')[0]\n",
    "            else:\n",
    "                print fn\n",
    "            sent = nltk.sent_tokenize(\n",
    "                unicode(text, errors='ignore').replace('\\n', ' ').replace(',','^'))\n",
    "            out.extend([[s, category, fn, i ] for i,s in enumerate(sent)])\n",
    "    return out"
   ]
  },
  {
   "cell_type": "code",
   "execution_count": 15,
   "metadata": {},
   "outputs": [],
   "source": [
    "# save all sentences by category in csv\n",
    "# also save a copy in a single file with the order shuffled.\n",
    "# also save a copy with the first 15 sentences per category for tests\n",
    "all_sentences = []\n",
    "columns = [\n",
    "    'sentence',\n",
    "    'category',\n",
    "    'file_name',\n",
    "    'index'\n",
    "]\n",
    "for c in categories:\n",
    "    sent = tokenize_category(c)\n",
    "    all_sentences.extend(sent)\n",
    "    \n",
    "with open('data/cnn/aggregated/all.csv'.format(data_path), 'w') as f:\n",
    "    writer = csv.writer(f, delimiter=',')\n",
    "    writer.writerow(columns)\n",
    "    writer.writerows(all_sentences)"
   ]
  }
 ],
 "metadata": {
  "kernelspec": {
   "display_name": "Python 2",
   "language": "python",
   "name": "python2"
  },
  "language_info": {
   "codemirror_mode": {
    "name": "ipython",
    "version": 2
   },
   "file_extension": ".py",
   "mimetype": "text/x-python",
   "name": "python",
   "nbconvert_exporter": "python",
   "pygments_lexer": "ipython2",
   "version": "2.7.13"
  }
 },
 "nbformat": 4,
 "nbformat_minor": 2
}
