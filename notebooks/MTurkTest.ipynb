{
 "cells": [
  {
   "cell_type": "code",
   "execution_count": 2,
   "metadata": {
    "collapsed": true
   },
   "outputs": [],
   "source": [
    "%load_ext autoreload\n",
    "%autoreload 1\n",
    "import nltk\n",
    "import csv\n",
    "import random"
   ]
  },
  {
   "cell_type": "code",
   "execution_count": 5,
   "metadata": {
    "collapsed": true
   },
   "outputs": [],
   "source": [
    "data_path = \"data/bbc/results\""
   ]
  },
  {
   "cell_type": "code",
   "execution_count": 26,
   "metadata": {
    "collapsed": true
   },
   "outputs": [],
   "source": [
    "with open(\"{0}/batch_1.csv\".format(data_path), 'r') as f:\n",
    "    reader = csv.reader(f)\n",
    "    data = [l for l in reader]\n",
    "    header = data[0]\n",
    "    rows = data[1:]"
   ]
  },
  {
   "cell_type": "code",
   "execution_count": 21,
   "metadata": {},
   "outputs": [
    {
     "name": "stdout",
     "output_type": "stream",
     "text": [
      "The 12^575 cafes were shut in the three months from October to December.\n"
     ]
    }
   ],
   "source": [
    "print data[2][-5]"
   ]
  },
  {
   "cell_type": "code",
   "execution_count": 30,
   "metadata": {
    "collapsed": true
   },
   "outputs": [],
   "source": [
    "def to_label(label):\n",
    "    if label == 'category 1':\n",
    "        return 'objective'\n",
    "    return 'subjective'\n",
    "def to_sentence(sent):\n",
    "    return sent.replace('^',',')\n",
    "data = [to_sentence(r[-5]) for r in rows]\n",
    "labels = [to_label(r[-1]) for r in rows]"
   ]
  },
  {
   "cell_type": "code",
   "execution_count": 31,
   "metadata": {
    "collapsed": true
   },
   "outputs": [],
   "source": [
    "from sklearn.model_selection import train_test_split\n",
    "X_train, X_test, y_train, y_test = train_test_split(data, labels, test_size=0.50, random_state=42)\n",
    "X_train, X_val, y_train, y_val = train_test_split(X_train, y_train, test_size=0.05, random_state=42)"
   ]
  },
  {
   "cell_type": "code",
   "execution_count": 35,
   "metadata": {
    "collapsed": true
   },
   "outputs": [],
   "source": [
    "result = \"data/bbc/aggregated\"\n",
    "def save_input_file(name, X, y):\n",
    "    with open(\"data/bbc/aggregated/bbc.{0}.input.txt\".format(name), 'w') as f:\n",
    "        for i in range(len(X)):\n",
    "            sentence = X[i]\n",
    "            label = y[i]\n",
    "            f.write(\"{0}\\t{1}\\n\".format(sentence, label))\n",
    "\n",
    "save_input_file(\"train\", X_train, y_train)\n",
    "save_input_file(\"test\", X_test, y_test)\n",
    "save_input_file(\"val\", X_val, y_val)"
   ]
  },
  {
   "cell_type": "code",
   "execution_count": 1,
   "metadata": {
    "collapsed": true
   },
   "outputs": [],
   "source": [
    "from cntk import load_model\n",
    "loaded_model = load_model(\"imbd.v3-1.cntk.mdl\")"
   ]
  },
  {
   "cell_type": "code",
   "execution_count": null,
   "metadata": {
    "collapsed": true
   },
   "outputs": [],
   "source": []
  }
 ],
 "metadata": {
  "kernelspec": {
   "display_name": "Python 2",
   "language": "python",
   "name": "python2"
  },
  "language_info": {
   "codemirror_mode": {
    "name": "ipython",
    "version": 2
   },
   "file_extension": ".py",
   "mimetype": "text/x-python",
   "name": "python",
   "nbconvert_exporter": "python",
   "pygments_lexer": "ipython2",
   "version": "2.7.13"
  }
 },
 "nbformat": 4,
 "nbformat_minor": 2
}
